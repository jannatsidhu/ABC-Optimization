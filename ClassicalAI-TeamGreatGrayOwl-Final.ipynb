{
 "cells": [
  {
   "cell_type": "markdown",
   "id": "74599712-e12c-41d3-bc85-d1b34d98d54d",
   "metadata": {},
   "source": [
    "### OCI Data Science - Useful Tips\n",
    "<details>\n",
    "<summary><font size=\"2\">Check for Public Internet Access</font></summary>\n",
    "\n",
    "```python\n",
    "import requests\n",
    "response = requests.get(\"https://oracle.com\")\n",
    "assert response.status_code==200, \"Internet connection failed\"\n",
    "```\n",
    "</details>\n",
    "<details>\n",
    "<summary><font size=\"2\">Helpful Documentation </font></summary>\n",
    "<ul><li><a href=\"https://docs.cloud.oracle.com/en-us/iaas/data-science/using/data-science.htm\">Data Science Service Documentation</a></li>\n",
    "<li><a href=\"https://docs.cloud.oracle.com/iaas/tools/ads-sdk/latest/index.html\">ADS documentation</a></li>\n",
    "</ul>\n",
    "</details>\n",
    "<details>\n",
    "<summary><font size=\"2\">Typical Cell Imports and Settings for ADS</font></summary>\n",
    "\n",
    "```python\n",
    "%load_ext autoreload\n",
    "%autoreload 2\n",
    "%matplotlib inline\n",
    "\n",
    "import warnings\n",
    "warnings.filterwarnings('ignore')\n",
    "\n",
    "import logging\n",
    "logging.basicConfig(format='%(levelname)s:%(message)s', level=logging.ERROR)\n",
    "\n",
    "import ads\n",
    "from ads.dataset.factory import DatasetFactory\n",
    "from ads.automl.provider import OracleAutoMLProvider\n",
    "from ads.automl.driver import AutoML\n",
    "from ads.evaluations.evaluator import ADSEvaluator\n",
    "from ads.common.data import ADSData\n",
    "from ads.explanations.explainer import ADSExplainer\n",
    "from ads.explanations.mlx_global_explainer import MLXGlobalExplainer\n",
    "from ads.explanations.mlx_local_explainer import MLXLocalExplainer\n",
    "from ads.catalog.model import ModelCatalog\n",
    "from ads.common.model_artifact import ModelArtifact\n",
    "```\n",
    "</details>\n",
    "<details>\n",
    "<summary><font size=\"2\">Useful Environment Variables</font></summary>\n",
    "\n",
    "```python\n",
    "import os\n",
    "print(os.environ[\"NB_SESSION_COMPARTMENT_OCID\"])\n",
    "print(os.environ[\"PROJECT_OCID\"])\n",
    "print(os.environ[\"USER_OCID\"])\n",
    "print(os.environ[\"TENANCY_OCID\"])\n",
    "print(os.environ[\"NB_REGION\"])\n",
    "```\n",
    "</details>"
   ]
  },
  {
   "cell_type": "code",
   "execution_count": 206,
   "id": "292d7352-a677-4a92-9ded-45de3aa221cb",
   "metadata": {
    "tags": []
   },
   "outputs": [],
   "source": [
    "import pandas as pd\n",
    "from sklearn.model_selection import train_test_split\n",
    "from sklearn.ensemble import RandomForestClassifier\n",
    "from sklearn.metrics import accuracy_score, classification_report\n",
    "from sklearn.preprocessing import StandardScaler"
   ]
  },
  {
   "cell_type": "code",
   "execution_count": 208,
   "id": "2a059c54-8e08-4661-bc3d-48cbeb13f57a",
   "metadata": {
    "tags": []
   },
   "outputs": [],
   "source": [
    "# Load the datasets\n",
    "activities_train_df = pd.read_csv('Activities_train.csv')\n",
    "projects_train_df = pd.read_csv('Projects_train.csv')\n",
    "grants_df = pd.read_csv('Grants.csv')\n",
    "landscape_df = pd.read_csv('Landscape.csv')\n",
    "subawards_df = pd.read_csv('Subawards_train.csv')\n",
    "acad_regional_df = pd.read_csv('ACADRegional.csv')\n",
    "reserves_df = pd.read_csv('Reserves.csv')\n",
    "#print(projects_train_df.head())\n",
    "# Clean column names (if needed) to remove leading or trailing spaces\n",
    "reserves_df.columns = reserves_df.columns.str.strip()"
   ]
  },
  {
   "cell_type": "code",
   "execution_count": 209,
   "id": "5180ea28-e3c9-479f-8e1d-85a61fe13716",
   "metadata": {
    "tags": []
   },
   "outputs": [
    {
     "name": "stdout",
     "output_type": "stream",
     "text": [
      "<class 'pandas.core.frame.DataFrame'>\n",
      "Index: 88 entries, 0 to 90\n",
      "Data columns (total 8 columns):\n",
      " #   Column             Non-Null Count  Dtype \n",
      "---  ------             --------------  ----- \n",
      " 0   ProjectName        88 non-null     int64 \n",
      " 1   ProgramName        88 non-null     object\n",
      " 2   ProjectManager     88 non-null     object\n",
      " 3   RegionName         88 non-null     object\n",
      " 4   ReserveName        88 non-null     object\n",
      " 5   SpeciesCommonName  88 non-null     object\n",
      " 6    EstimatedCost     88 non-null     object\n",
      " 7   ProjectPriority    88 non-null     object\n",
      "dtypes: int64(1), object(7)\n",
      "memory usage: 6.2+ KB\n"
     ]
    }
   ],
   "source": [
    "# Remove rows with missing ProjectPriority values\n",
    "projects_train_df = projects_train_df.dropna(subset=['ProjectPriority'])\n",
    "projects_train_df.info()"
   ]
  },
  {
   "cell_type": "code",
   "execution_count": 211,
   "id": "8cca6b0c-4823-4366-a580-19086ebd277f",
   "metadata": {
    "tags": []
   },
   "outputs": [
    {
     "name": "stdout",
     "output_type": "stream",
     "text": [
      "   ProjectName ProgramName ProjectManager RegionName   ReserveName  \\\n",
      "0            4       MIMAL              F      BCR23         Karuk   \n",
      "1            8     Central              C      BCR35     Nankipooh   \n",
      "2            9       MIMAL              B      BCR23         Karuk   \n",
      "3           10  Crossroads              I      BCR29      Weracoba   \n",
      "4           11       MIMAL              C      BCR26  Acoma Pueblo   \n",
      "\n",
      "           SpeciesCommonName  EstimatedCost ProjectPriority  \n",
      "0          Red-billed Pigeon     37000000.0          Medium  \n",
      "1      Tawny-crested Tanager      6000000.0          Medium  \n",
      "2   White-bellied Chachalaca     15000000.0            High  \n",
      "3  Black-cheeked Ant-Tanager     23000000.0            High  \n",
      "4                  King Rail     47000000.0            High  \n"
     ]
    }
   ],
   "source": [
    "#Estimated cost has a space ahead of it\n",
    "# Remove leading and trailing whitespace from all column names\n",
    "projects_train_df.columns = projects_train_df.columns.str.strip()\n",
    "#Convert EstimatedCost to a numeric format by removing dollar signs and commas\n",
    "projects_train_df['EstimatedCost'] = projects_train_df['EstimatedCost'].replace('[\\$,]', '', regex=True).astype(float)\n",
    "\n",
    "# Verify the result\n",
    "print(projects_train_df.head())"
   ]
  },
  {
   "cell_type": "code",
   "execution_count": 212,
   "id": "d938bfbe-850d-4b4e-8001-1eed90483a6d",
   "metadata": {
    "tags": []
   },
   "outputs": [
    {
     "name": "stdout",
     "output_type": "stream",
     "text": [
      "   SubAwardName  ProjectName VendorName  ActivityName      Budget     Spend  \\\n",
      "0             4            4    ABC INC             4   98340.864   92774.4   \n",
      "1             8            8    LOL INC             8  116083.800  139860.0   \n",
      "2             9            9        IFM             9    8700.615   10741.5   \n",
      "3            10           10        NDR            10    4872.000    4200.0   \n",
      "4            11           11       WFYF            11   93634.464   88334.4   \n",
      "\n",
      "   BudgetMinusSpend  \n",
      "0          5566.464  \n",
      "1        -23776.200  \n",
      "2         -2040.885  \n",
      "3           672.000  \n",
      "4          5300.064  \n"
     ]
    }
   ],
   "source": [
    "# Calculate 'Budget - Spend' in Subawards\n",
    "subawards_df['BudgetMinusSpend'] = subawards_df['Budget'] - subawards_df['Spend']\n",
    "\n",
    "print(subawards_df.head())\n"
   ]
  },
  {
   "cell_type": "code",
   "execution_count": 213,
   "id": "c7396267-c050-464c-8e5c-143a4c27d892",
   "metadata": {
    "tags": []
   },
   "outputs": [],
   "source": [
    "# Standardize key columns by removing whitespaces and converting to lowercase\n",
    "activities_train_df['ProjectName'] = activities_train_df['ProjectName'].astype(str).str.strip().str.lower()\n",
    "activities_train_df['ActivityName'] = activities_train_df['ActivityName'].astype(str).str.strip().str.lower()\n",
    "activities_train_df['TreeName'] = activities_train_df['TreeName'].astype(str).str.strip().str.lower()\n",
    "projects_train_df['ProjectName'] = projects_train_df['ProjectName'].astype(str).str.strip().str.lower()\n",
    "subawards_df['ActivityName'] = subawards_df['ActivityName'].astype(str)\n",
    "grants_df['GrantName'] = grants_df['GrantName'].astype(str).str.strip().str.lower()\n",
    "landscape_df['TreeName'] = landscape_df['TreeName'].astype(str).str.strip().str.lower()\n",
    "\n",
    "# Verify that the key columns are standardized\n",
    "# print(activities_train_df[['ProjectName', 'ActivityName', 'TreeName']].head())\n",
    "# print(projects_train_df['ProjectName'].head())\n",
    "# print(grants_df['GrantName'].head())\n",
    "# print(landscape_df['TreeName'].head())\n"
   ]
  },
  {
   "cell_type": "code",
   "execution_count": 214,
   "id": "c4bbcb4c-aa72-434c-87f3-625cdabeb76a",
   "metadata": {
    "tags": []
   },
   "outputs": [
    {
     "name": "stdout",
     "output_type": "stream",
     "text": [
      "  ProjectName  TotalActivities\n",
      "0          10               17\n",
      "1          11               13\n",
      "2          12               12\n",
      "3          13               10\n",
      "4          14               11\n"
     ]
    }
   ],
   "source": [
    "# Aggregate activity features by ProjectName\n",
    "activities_agg = activities_train_df.groupby('ProjectName').agg({\n",
    "    'ActivityName': 'count',          # Total Number of Activities\n",
    "}).reset_index()\n",
    "\n",
    "# Rename columns for clarity\n",
    "activities_agg.rename(columns={\n",
    "    'ActivityName': 'TotalActivities',\n",
    "}, inplace=True)\n",
    "\n",
    "# Display the aggregated features\n",
    "print(activities_agg.head())\n"
   ]
  },
  {
   "cell_type": "code",
   "execution_count": 215,
   "id": "0ce7a113-3453-480f-968f-3c420b07885f",
   "metadata": {
    "tags": []
   },
   "outputs": [],
   "source": [
    "# Merge Landscape data to get cost per tree\n",
    "activities_with_cost = pd.merge(activities_train_df, landscape_df[['TreeName', 'CostperTree']], on='TreeName', how='left')\n",
    "\n",
    "# Calculate total activity cost per project\n",
    "activities_with_cost['TotalActivityCost'] = activities_with_cost['NumberofTrees'] * activities_with_cost['CostperTree']"
   ]
  },
  {
   "cell_type": "code",
   "execution_count": 216,
   "id": "d6f5a688-e1f2-4efe-9841-e20a6aa563cb",
   "metadata": {
    "tags": []
   },
   "outputs": [
    {
     "name": "stdout",
     "output_type": "stream",
     "text": [
      "  ActivityName ProjectName         GrantName       Reserve          TreeName  \\\n",
      "0            0          17  CardboardGrant23     Kalispell  indian rose wood   \n",
      "1            1          61  CardboardGrant23     Blackfeet           avocado   \n",
      "2            2           9    BasketGrant283         Karuk            spruce   \n",
      "3            3          79       PaperGrant5        Arouca            peepal   \n",
      "4            4          20     GlassGrant209  Acoma Pueblo           avocado   \n",
      "\n",
      "   NumberofTrees  CostperTree  TotalActivityCost  BudgetMinusSpend  \n",
      "0          12700         17.0           215900.0               NaN  \n",
      "1           8580         16.0           137280.0               NaN  \n",
      "2           4428         20.0            88560.0               NaN  \n",
      "3          10137          8.0            81096.0               NaN  \n",
      "4          19328         16.0           309248.0          5566.464  \n",
      "  ActivityName  TotalActivityCost  BudgetMinusSpend  AdjustedActivityCost\n",
      "0            0           215900.0             0.000            215900.000\n",
      "1            1           137280.0             0.000            137280.000\n",
      "2            2            88560.0             0.000             88560.000\n",
      "3            3            81096.0             0.000             81096.000\n",
      "4            4           309248.0          5566.464            303681.536\n"
     ]
    }
   ],
   "source": [
    "# Merge Subawards with Activities on 'ActivityName'\n",
    "activities_with_cost = pd.merge(activities_with_cost, subawards_df[['ActivityName', 'BudgetMinusSpend']], on='ActivityName', how='left')\n",
    "\n",
    "# Calculate 'Cost of Activity - (Budget - Spend)' and create a new column\n",
    "print(activities_with_cost.head())\n",
    "#not a proper join- missing values--\n",
    "\n",
    "# Find activity names in Activities that don’t have a matching BudgetMinusSpend\n",
    "#missing_matches = activities_with_cost[activities_with_cost['BudgetMinusSpend'].isna()]\n",
    "#print(\"Activities without matching subawards:\\n\", missing_matches[['ActivityName', 'ProjectName']])\n",
    "\n",
    "# Fill NaNs in BudgetMinusSpend with 0 as if empty= means no award\n",
    "activities_with_cost['BudgetMinusSpend'].fillna(0, inplace=True)\n",
    "\n",
    "# Recalculate AdjustedActivityCost after filling NaNs\n",
    "activities_with_cost['AdjustedActivityCost'] = np.where(\n",
    "    activities_with_cost['BudgetMinusSpend'] > 0,\n",
    "    activities_with_cost['TotalActivityCost'] - activities_with_cost['BudgetMinusSpend'],\n",
    "    activities_with_cost['TotalActivityCost'] + activities_with_cost['BudgetMinusSpend']\n",
    ")\n",
    "# Display the updated DataFrame to verify\n",
    "print(activities_with_cost[['ActivityName', 'TotalActivityCost', 'BudgetMinusSpend', 'AdjustedActivityCost']].head())"
   ]
  },
  {
   "cell_type": "code",
   "execution_count": 217,
   "id": "b1f7dc60-260b-43c0-8138-73d050e11a17",
   "metadata": {
    "tags": []
   },
   "outputs": [
    {
     "name": "stdout",
     "output_type": "stream",
     "text": [
      "  ProjectName  AdjustedActivityCost\n",
      "0          10          1.114847e+06\n",
      "1          11          2.290907e+06\n",
      "2          12          2.393944e+05\n",
      "3          13          1.779719e+06\n",
      "4          14          1.676225e+06\n"
     ]
    }
   ],
   "source": [
    "# Aggregate total activity cost by ProjectName\n",
    "cost_agg = activities_with_cost.groupby('ProjectName')['AdjustedActivityCost'].sum().reset_index()\n",
    "\n",
    "# Verify the aggregated cost data\n",
    "print(cost_agg.head())"
   ]
  },
  {
   "cell_type": "code",
   "execution_count": 218,
   "id": "529fa0f6-bd00-4b7d-a06a-4ef6480169e0",
   "metadata": {
    "tags": []
   },
   "outputs": [
    {
     "name": "stdout",
     "output_type": "stream",
     "text": [
      "  ProjectName ProgramName ProjectManager RegionName   ReserveName  \\\n",
      "0           4       MIMAL              F      BCR23         Karuk   \n",
      "1           8     Central              C      BCR35     Nankipooh   \n",
      "2           9       MIMAL              B      BCR23         Karuk   \n",
      "3          10  Crossroads              I      BCR29      Weracoba   \n",
      "4          11       MIMAL              C      BCR26  Acoma Pueblo   \n",
      "\n",
      "           SpeciesCommonName  EstimatedCost ProjectPriority  TotalActivities  \\\n",
      "0          Red-billed Pigeon     37000000.0          Medium                9   \n",
      "1      Tawny-crested Tanager      6000000.0          Medium               10   \n",
      "2   White-bellied Chachalaca     15000000.0            High               14   \n",
      "3  Black-cheeked Ant-Tanager     23000000.0            High               17   \n",
      "4                  King Rail     47000000.0            High               13   \n",
      "\n",
      "   AdjustedActivityCost  \n",
      "0          4.771501e+05  \n",
      "1          3.943973e+05  \n",
      "2          7.327355e+05  \n",
      "3          1.114847e+06  \n",
      "4          2.290907e+06  \n"
     ]
    }
   ],
   "source": [
    "# Merge aggregated activity features and activity costs\n",
    "train_merged = pd.merge(activities_agg, cost_agg, on='ProjectName', how='left')\n",
    "train_merged = pd.merge(projects_train_df, train_merged, on='ProjectName', how='left')\n",
    "# Verify the final merged dataset for training\n",
    "print(train_merged.head())\n"
   ]
  },
  {
   "cell_type": "code",
   "execution_count": 219,
   "id": "e3a555d6-2390-4837-b806-c5a72f20aa83",
   "metadata": {
    "tags": []
   },
   "outputs": [
    {
     "name": "stdout",
     "output_type": "stream",
     "text": [
      "  ProjectName ProgramName ProjectManager RegionName   ReserveName  \\\n",
      "0           4       MIMAL              F      BCR23         Karuk   \n",
      "1           8     Central              C      BCR35     Nankipooh   \n",
      "2           9       MIMAL              B      BCR23         Karuk   \n",
      "3          10  Crossroads              I      BCR29      Weracoba   \n",
      "4          11       MIMAL              C      BCR26  Acoma Pueblo   \n",
      "\n",
      "           SpeciesCommonName  EstimatedCost ProjectPriority  TotalActivities  \\\n",
      "0          Red-billed Pigeon     37000000.0          Medium                9   \n",
      "1      Tawny-crested Tanager      6000000.0          Medium               10   \n",
      "2   White-bellied Chachalaca     15000000.0            High               14   \n",
      "3  Black-cheeked Ant-Tanager     23000000.0            High               17   \n",
      "4                  King Rail     47000000.0            High               13   \n",
      "\n",
      "   AdjustedActivityCost  RiskIndex  \n",
      "0          4.771501e+05       0.10  \n",
      "1          3.943973e+05       0.98  \n",
      "2          7.327355e+05       0.19  \n",
      "3          1.114847e+06       0.82  \n",
      "4          2.290907e+06       0.58  \n"
     ]
    }
   ],
   "source": [
    "#including risk index from speciesrisks\n",
    "# Load the dataset\n",
    "species_risks_df = pd.read_csv('SpeciesRisks.csv')\n",
    "#there is a 'SpeciesCommonName' column that matches 'SpeciesCommonName' in Activities_train.csv\n",
    "# Merge risk data with Activities_train.csv using 'SpeciesName' as the key\n",
    "train_merged = pd.merge(train_merged, species_risks_df[['SpeciesCommonName', 'RiskIndex']], on='SpeciesCommonName', how='left')\n",
    "\n",
    "# Verify the merged dataset\n",
    "print(train_merged.head())"
   ]
  },
  {
   "cell_type": "code",
   "execution_count": 220,
   "id": "0b3a3258-ff27-49d2-96e9-f0cc70744140",
   "metadata": {},
   "outputs": [
    {
     "name": "stdout",
     "output_type": "stream",
     "text": [
      "  ProjectName ProgramName ProjectManager RegionName   ReserveName  \\\n",
      "0           4       MIMAL              F      BCR23         Karuk   \n",
      "1           8     Central              C      BCR35     Nankipooh   \n",
      "2           9       MIMAL              B      BCR23         Karuk   \n",
      "3          10  Crossroads              I      BCR29      Weracoba   \n",
      "4          11       MIMAL              C      BCR26  Acoma Pueblo   \n",
      "\n",
      "           SpeciesCommonName  EstimatedCost ProjectPriority  TotalActivities  \\\n",
      "0          Red-billed Pigeon     37000000.0          Medium                9   \n",
      "1      Tawny-crested Tanager      6000000.0          Medium               10   \n",
      "2   White-bellied Chachalaca     15000000.0            High               14   \n",
      "3  Black-cheeked Ant-Tanager     23000000.0            High               17   \n",
      "4                  King Rail     47000000.0            High               13   \n",
      "\n",
      "   AdjustedActivityCost  RiskIndex  PotentialAreaToPlantTree  \n",
      "0          4.771501e+05       0.10                    4995.0  \n",
      "1          3.943973e+05       0.98                    1440.0  \n",
      "2          7.327355e+05       0.19                    4995.0  \n",
      "3          1.114847e+06       0.82                      52.5  \n",
      "4          2.290907e+06       0.58                    1534.0  \n"
     ]
    }
   ],
   "source": [
    "#Using Reserves\n",
    "# Calculate TotalUnusedArea\n",
    "reserves_df['TotalUnusedArea'] = reserves_df['TotalReserveArea'] - reserves_df['TotalReserveUsed']\n",
    "\n",
    "# Calculate PotentialAreaToPlantTree\n",
    "reserves_df['PotentialAreaToPlantTree'] = reserves_df['TotalUnusedArea'] * reserves_df['PackingDensity']\n",
    "\n",
    "# Check the resulting DataFrame\n",
    "#print(reserves_df[['ReserveName', 'TotalReserveArea', 'TotalReserveUsed', 'TotalUnusedArea', 'PackingDensity', 'PotentialAreaToPlantTree']].head())\n",
    "\n",
    "# Now merge this new data with your main DataFrame (e.g., `train_merged`) on 'ReserveName' or any other matching key\n",
    "train_merged = pd.merge(train_merged, reserves_df[['ReserveName', 'PotentialAreaToPlantTree']], on='ReserveName', how='left')\n",
    "\n",
    "# Fill any missing values with 0 (if no data for certain reserves)\n",
    "train_merged['PotentialAreaToPlantTree'].fillna(0, inplace=True)\n",
    "\n",
    "# Check the top rows to verify the merge\n",
    "print(train_merged.head())"
   ]
  },
  {
   "cell_type": "code",
   "execution_count": 221,
   "id": "8820e3e4-cbf4-48bf-8467-ae085e654754",
   "metadata": {
    "tags": []
   },
   "outputs": [
    {
     "name": "stdout",
     "output_type": "stream",
     "text": [
      "   AdjustedActivityCost  TotalActivities  RiskIndex  PotentialAreaToPlantTree\n",
      "0          4.771501e+05                9       0.10                    4995.0\n",
      "1          3.943973e+05               10       0.98                    1440.0\n",
      "2          7.327355e+05               14       0.19                    4995.0\n",
      "3          1.114847e+06               17       0.82                      52.5\n",
      "4          2.290907e+06               13       0.58                    1534.0\n",
      "0    1\n",
      "1    1\n",
      "2    2\n",
      "3    2\n",
      "4    2\n",
      "Name: ProjectPriority, dtype: int64\n"
     ]
    }
   ],
   "source": [
    "# Prepare features and target variable\n",
    "X = train_merged[['AdjustedActivityCost', 'TotalActivities', 'RiskIndex', 'PotentialAreaToPlantTree']]\n",
    "y = train_merged['ProjectPriority']\n",
    "\n",
    "# Encode target variable\n",
    "priority_mapping = {'Low': 0, 'Medium': 1, 'High': 2}\n",
    "y = y.map(priority_mapping)\n",
    "\n",
    "# Verify features and target\n",
    "print(X.head())\n",
    "print(y.head())\n"
   ]
  },
  {
   "cell_type": "code",
   "execution_count": 222,
   "id": "4e626681-210f-4429-9d5b-2695a8857658",
   "metadata": {
    "tags": []
   },
   "outputs": [],
   "source": [
    "# Split data into training and validation sets (for internal model tuning and evaluation)\n",
    "X_train, X_val, y_train, y_val = train_test_split(X, y, test_size=0.2, random_state=42)\n",
    "\n",
    "# Identify indices of NaN values in y_train\n",
    "nan_indices = y_train[y_train.isna()].index\n",
    "\n",
    "# Drop rows with NaN values in both X_train and y_train\n",
    "X_train = X_train.drop(nan_indices).copy()\n",
    "y_train = y_train.drop(nan_indices).copy()\n",
    "\n",
    "# Ensure y_train is integer type\n",
    "y_train = y_train.astype(int)\n",
    "\n",
    "# Verify no more NaN values\n",
    "#print(\"Number of NaN values in y_train:\", y_train.isna().sum())\n"
   ]
  },
  {
   "cell_type": "code",
   "execution_count": 223,
   "id": "199311e6-b6bd-41f5-982e-99fd8286c20d",
   "metadata": {
    "tags": []
   },
   "outputs": [],
   "source": [
    "# # Initialize the scaler\n",
    "# scaler = StandardScaler()\n",
    "\n",
    "# # Fit and transform the training data\n",
    "# X_train_scaled = scaler.fit_transform(X_train[['AdjustedActivityCost', 'TotalActivities', 'RiskIndex', 'PotentialAreaToPlantTree']])\n",
    "# #print(X_train_scaled)\n",
    "# X_train=X_train_scaled"
   ]
  },
  {
   "cell_type": "code",
   "execution_count": 224,
   "id": "15196a13-8b5a-40c0-b21b-615019c8ddf6",
   "metadata": {
    "tags": []
   },
   "outputs": [
    {
     "name": "stdout",
     "output_type": "stream",
     "text": [
      "Validation Accuracy with XGBoost: 0.7222222222222222\n",
      "Validation Classification Report with XGBoost:\n",
      "               precision    recall  f1-score   support\n",
      "\n",
      "           0       0.67      0.80      0.73         5\n",
      "           1       0.71      0.62      0.67         8\n",
      "           2       0.80      0.80      0.80         5\n",
      "\n",
      "    accuracy                           0.72        18\n",
      "   macro avg       0.73      0.74      0.73        18\n",
      "weighted avg       0.72      0.72      0.72        18\n",
      "\n"
     ]
    }
   ],
   "source": [
    "import xgboost as xgb\n",
    "\n",
    "# Train the model using the training set\n",
    "xgb_model = xgb.XGBClassifier(random_state=42)\n",
    "xgb_model.fit(X_train, y_train)\n",
    "\n",
    "# Evaluate the XGBoost model\n",
    "y_val_pred = xgb_model.predict(X_val)\n",
    "print(\"Validation Accuracy with XGBoost:\", accuracy_score(y_val, y_val_pred))\n",
    "print(\"Validation Classification Report with XGBoost:\\n\", classification_report(y_val, y_val_pred))\n"
   ]
  },
  {
   "cell_type": "code",
   "execution_count": 225,
   "id": "72edefee-9261-411d-828d-08ab14b0c985",
   "metadata": {
    "tags": []
   },
   "outputs": [
    {
     "name": "stdout",
     "output_type": "stream",
     "text": [
      "Best Hyperparameters: {'learning_rate': 0.01, 'max_depth': 3, 'n_estimators': 100}\n",
      "Validation Accuracy after Hyperparameter Tuning: 0.6666666666666666\n",
      "Validation Classification Report after Hyperparameter Tuning:\n",
      "               precision    recall  f1-score   support\n",
      "\n",
      "           0       0.57      0.80      0.67         5\n",
      "           1       0.71      0.62      0.67         8\n",
      "           2       0.75      0.60      0.67         5\n",
      "\n",
      "    accuracy                           0.67        18\n",
      "   macro avg       0.68      0.67      0.67        18\n",
      "weighted avg       0.68      0.67      0.67        18\n",
      "\n"
     ]
    }
   ],
   "source": [
    "#Tune Hyperparameters for XGBoost using GridSearch\n",
    "from sklearn.model_selection import GridSearchCV\n",
    "import xgboost as xgb\n",
    "\n",
    "param_grid = {\n",
    "    'learning_rate': [0.01, 0.1, 0.2],\n",
    "    'max_depth': [3, 5, 7],\n",
    "    'n_estimators': [50, 100, 200]\n",
    "}\n",
    "\n",
    "xgb_model = xgb.XGBClassifier(random_state=42)\n",
    "grid_search = GridSearchCV(xgb_model, param_grid, cv=3, scoring='f1_macro')\n",
    "grid_search.fit(X_train, y_train)\n",
    "\n",
    "best_model = grid_search.best_estimator_\n",
    "print(\"Best Hyperparameters:\", grid_search.best_params_)\n",
    "\n",
    "# Evaluate the tuned model\n",
    "y_val_pred = best_model.predict(X_val)\n",
    "print(\"Validation Accuracy after Hyperparameter Tuning:\", accuracy_score(y_val, y_val_pred))\n",
    "print(\"Validation Classification Report after Hyperparameter Tuning:\\n\", classification_report(y_val, y_val_pred))\n"
   ]
  },
  {
   "cell_type": "code",
   "execution_count": 226,
   "id": "b5ea5eb4-2b44-4ca1-9259-fb57b5bfef4a",
   "metadata": {
    "tags": []
   },
   "outputs": [
    {
     "name": "stdout",
     "output_type": "stream",
     "text": [
      "   AdjustedActivityCost  TotalActivities  RiskIndex  PotentialAreaToPlantTree\n",
      "0             320205.83               10       0.41                     211.2\n",
      "1            1828496.00               11       0.49                     369.6\n",
      "2             783222.00               12       0.54                    4949.0\n",
      "3            3357789.00               15       0.10                    4746.0\n",
      "4            1145529.00               17       0.85                     436.8\n",
      "5             875465.00               15       0.86                       0.0\n",
      "6            1557249.00               21       0.99                    1539.9\n",
      "7             876292.00               11       0.39                    3553.2\n",
      "8             962025.00                7       0.37                     768.4\n"
     ]
    }
   ],
   "source": [
    "# Load the test datasets \n",
    "#Same preprocessing as Trainining data\n",
    "activities_test_df = pd.read_csv('Activities_test.csv')\n",
    "projects_test_df = pd.read_csv('Projects_test.csv')\n",
    "subawards_test_df = pd.read_csv('Subawards_test.csv')\n",
    "# Standardize key columns by removing whitespaces and converting to lowercase\n",
    "activities_test_df['ProjectName'] = activities_test_df['ProjectName'].astype(str).str.strip().str.lower()\n",
    "activities_test_df['TreeName'] = activities_test_df['TreeName'].astype(str).str.strip().str.lower()\n",
    "subawards_df['ActivityName'] = subawards_df['ActivityName'].astype(str)\n",
    "projects_test_df['ProjectName'] = projects_test_df['ProjectName'].astype(str).str.strip().str.lower()\n",
    "projects_test_df.columns = projects_test_df.columns.str.strip()\n",
    "#Convert EstimatedCost to a numeric format by removing dollar signs and commas\n",
    "projects_test_df['EstimatedCost'] = projects_test_df['EstimatedCost'].replace('[\\$,]', '', regex=True).astype(float)\n",
    "\n",
    "#Calculate 'Budget - Spend' in Subawards Test\n",
    "subawards_test_df['BudgetMinusSpend'] = subawards_test_df['Budget'] - subawards_test_df['Spend']\n",
    "# Merge Landscape with Activities_test to calculate total cost per activity\n",
    "activities_test_with_cost = pd.merge(activities_test_df, landscape_df[['TreeName', 'CostperTree']], on='TreeName', how='left')\n",
    "activities_test_with_cost['TotalActivityCost'] = activities_test_with_cost['NumberofTrees'] * activities_test_with_cost['CostperTree']\n",
    "\n",
    "#Merge Subawards Test with Activities Test on 'ActivityName'\n",
    "activities_test_with_cost = pd.merge(activities_test_with_cost, subawards_test_df[['ActivityName', 'BudgetMinusSpend']], on='ActivityName', how='left')\n",
    "# Fill NaNs in BudgetMinusSpend with 0 as if empty= means no award\n",
    "activities_test_with_cost['BudgetMinusSpend'].fillna(0, inplace=True)\n",
    "# Calculate 'AdjustedActivityCost' in the test set\n",
    "activities_test_with_cost['AdjustedActivityCost'] = np.where(\n",
    "    activities_test_with_cost['BudgetMinusSpend'] > 0,\n",
    "    activities_test_with_cost['TotalActivityCost'] - activities_test_with_cost['BudgetMinusSpend'],\n",
    "    activities_test_with_cost['TotalActivityCost'] + activities_test_with_cost['BudgetMinusSpend']\n",
    ")\n",
    "\n",
    "# Aggregate features from activities_test by ProjectName\n",
    "activities_test_agg = activities_test_with_cost.groupby('ProjectName').agg({\n",
    "    'ActivityName': 'count',          # Total Number of Activities\n",
    "     'TotalActivityCost':'sum', # Number of Reserves involved\n",
    "     'AdjustedActivityCost': 'sum'        # Total Activity Cost\n",
    "}).reset_index()\n",
    "\n",
    "# Rename columns for consistency\n",
    "activities_test_agg.rename(columns={\n",
    "    'ActivityName': 'TotalActivities',\n",
    "     'TotalActivityCost': 'TotalActivityCost',\n",
    "    'AdjustedActivityCost':'AdjustedActivityCost'\n",
    "}, inplace=True)\n",
    "\n",
    "# Merge aggregated activity features with Projects_test.csv\n",
    "test_merged = pd.merge(projects_test_df, activities_test_agg, on='ProjectName', how='left')\n",
    "# Merge the aggregated risk index with Projects_test.csv\n",
    "test_merged = pd.merge(test_merged, species_risks_df[['SpeciesCommonName', 'RiskIndex']], on='SpeciesCommonName', how='left')\n",
    "test_merged = pd.merge(test_merged, reserves_df[['ReserveName', 'PotentialAreaToPlantTree']], on='ReserveName', how='left')\n",
    "\n",
    "\n",
    "# Prepare features for prediction\n",
    "X_test = test_merged[['AdjustedActivityCost', 'TotalActivities', 'RiskIndex', 'PotentialAreaToPlantTree']]\n",
    "print(X_test);\n",
    "\n",
    "# Transform the test data\n",
    "# X_test_scaled = scaler.transform(X_test[['AdjustedActivityCost', 'TotalActivities', 'RiskIndex', 'PotentialAreaToPlantTree']])\n",
    "# X_test=X_test_scaled"
   ]
  },
  {
   "cell_type": "code",
   "execution_count": 227,
   "id": "b90469ce-2d77-4148-aa31-8a5b5318c6c6",
   "metadata": {
    "tags": []
   },
   "outputs": [
    {
     "name": "stdout",
     "output_type": "stream",
     "text": [
      "Predicted Project Priorities for Test Set: [1 1 1 2 2 1 2 1 0]\n"
     ]
    }
   ],
   "source": [
    "# Predict on the provided test set\n",
    "y_test_pred = best_model.predict(X_test)\n",
    "#y_test_pred = xgb_model.predict(X_test)\n",
    "\n",
    "# Print the predicted priorities for the test set\n",
    "print(\"Predicted Project Priorities for Test Set:\", y_test_pred)\n"
   ]
  },
  {
   "cell_type": "code",
   "execution_count": 228,
   "id": "b5e767e6-aad1-44aa-90d4-3e09228fdfae",
   "metadata": {
    "tags": []
   },
   "outputs": [
    {
     "name": "stdout",
     "output_type": "stream",
     "text": [
      "Test Accuracy: 0.5555555555555556\n",
      "Test Classification Report:\n",
      "               precision    recall  f1-score   support\n",
      "\n",
      "           0       1.00      0.33      0.50         3\n",
      "           1       0.40      0.67      0.50         3\n",
      "           2       0.67      0.67      0.67         3\n",
      "\n",
      "    accuracy                           0.56         9\n",
      "   macro avg       0.69      0.56      0.56         9\n",
      "weighted avg       0.69      0.56      0.56         9\n",
      "\n"
     ]
    }
   ],
   "source": [
    "#Testing\n",
    "#ProjectPriority is given in Projects_test.csv, use it to compare with predictions\n",
    "y_test_actual = projects_test_df['ProjectPriority']\n",
    "\n",
    "# Encode the actual labels if necessary (e.g., 'Low' -> 0, 'Medium' -> 1, 'High' -> 2)\n",
    "priority_mapping = {'Low': 0, 'Medium': 1, 'High': 2}\n",
    "y_test_actual = y_test_actual.map(priority_mapping)\n",
    "\n",
    "from sklearn.metrics import accuracy_score, classification_report\n",
    "\n",
    "# Calculate accuracy\n",
    "test_accuracy = accuracy_score(y_test_actual, y_test_pred)\n",
    "print(\"Test Accuracy:\", test_accuracy)\n",
    "\n",
    "# Generate classification report to see detailed metrics\n",
    "print(\"Test Classification Report:\\n\", classification_report(y_test_actual, y_test_pred))\n"
   ]
  },
  {
   "cell_type": "markdown",
   "id": "1bfb4111-7b1e-4e27-a0a5-7b7fcb696d62",
   "metadata": {},
   "source": [
    "**FEATURE IMPORTANCE**"
   ]
  },
  {
   "cell_type": "code",
   "execution_count": 233,
   "id": "82f9e504-c98c-4eed-9a2e-352a7d27a97c",
   "metadata": {
    "tags": []
   },
   "outputs": [
    {
     "name": "stdout",
     "output_type": "stream",
     "text": [
      "                    Feature  Importance\n",
      "1           TotalActivities    0.624977\n",
      "2                 RiskIndex    0.140433\n",
      "3  PotentialAreaToPlantTree    0.126386\n",
      "0      AdjustedActivityCost    0.108204\n"
     ]
    }
   ],
   "source": [
    "feature_importances = best_model.feature_importances_\n",
    "importance_df = pd.DataFrame({'Feature': X.columns, 'Importance': feature_importances})\n",
    "importance_df = importance_df.sort_values(by='Importance', ascending=False)\n",
    "print(importance_df)\n"
   ]
  },
  {
   "cell_type": "markdown",
   "id": "35a9957a-4a8a-4452-8a5e-879b34e69023",
   "metadata": {
    "tags": []
   },
   "source": [
    "**VISUALS**"
   ]
  },
  {
   "cell_type": "code",
   "execution_count": 234,
   "id": "def1be95-7499-4020-9892-711f34a0e318",
   "metadata": {
    "tags": []
   },
   "outputs": [
    {
     "data": {
      "image/png": "[encoded data removed]",
      "text/plain": [
       "<Figure size 800x600 with 2 Axes>"
      ]
     },
     "metadata": {},
     "output_type": "display_data"
    }
   ],
   "source": [
    "#Feature Correlation Heatmap: \n",
    "import pandas as pd\n",
    "import seaborn as sns\n",
    "import matplotlib.pyplot as plt\n",
    "\n",
    "# Ensure X_test and y_test are DataFrames or Series, respectively\n",
    "# Add y_test as a new column in X_test for correlation calculation\n",
    "X_test_with_target = X_test.copy()\n",
    "X_test_with_target['ProjectPriority'] = y_test_actual  # Replace 'ProjectPriority' with the actual target name if different\n",
    "\n",
    "# Compute the correlation matrix\n",
    "correlation_matrix = X_test_with_target.corr()\n",
    "\n",
    "# Extract only correlations with the target column\n",
    "target_correlation = correlation_matrix[['ProjectPriority']].drop('ProjectPriority')\n",
    "\n",
    "# Plot the correlation with the target as a heatmap\n",
    "plt.figure(figsize=(8, 6))\n",
    "sns.heatmap(target_correlation, annot=True, cmap='coolwarm', fmt=\".2f\", cbar_kws={'shrink': .8}, linewidths=0.5)\n",
    "\n",
    "# Customize plot\n",
    "plt.title('Correlation of Test Features with ProjectPriority')\n",
    "plt.xlabel('Correlation with Target')\n",
    "plt.ylabel('Features')\n",
    "\n",
    "# Show plot\n",
    "plt.show()"
   ]
  },
  {
   "cell_type": "code",
   "execution_count": 235,
   "id": "f70b4bda-a58a-4144-ada0-fd73f7144a22",
   "metadata": {
    "tags": []
   },
   "outputs": [
    {
     "data": {
      "image/png": "[encoded data removed]",
      "text/plain": [
       "<Figure size 800x600 with 1 Axes>"
      ]
     },
     "metadata": {},
     "output_type": "display_data"
    }
   ],
   "source": [
    "#Feature Importance Bar Charts\n",
    "from matplotlib_venn import venn3\n",
    "import matplotlib.pyplot as plt\n",
    "importance_df.plot(kind='barh', x='Feature', y='Importance', legend=False, figsize=(8, 6))\n",
    "plt.title(\"Feature Importance in Model\")\n",
    "plt.xlabel(\"Importance Score\")\n",
    "plt.ylabel(\"Features\")\n",
    "plt.show()\n"
   ]
  },
  {
   "cell_type": "code",
   "execution_count": 237,
   "id": "235e4728-51dc-4b5d-969b-729e2340598d",
   "metadata": {
    "tags": []
   },
   "outputs": [
    {
     "data": {
      "image/png": "[encoded data removed]",
      "text/plain": [
       "<Figure size 800x600 with 1 Axes>"
      ]
     },
     "metadata": {},
     "output_type": "display_data"
    }
   ],
   "source": [
    "#•\tActual vs. Predicted Comparisons\n",
    "priority_df.plot(kind='bar', stacked=True, figsize=(8, 6))\n",
    "plt.title(\"Comparison of Actual vs. Predicted Project Priorities\")\n",
    "plt.xlabel(\"Priority Level\")\n",
    "plt.ylabel(\"Count\")\n",
    "plt.show()\n"
   ]
  },
  {
   "cell_type": "code",
   "execution_count": 239,
   "id": "38feb1f6-749d-4e81-9ad4-57e7f83c3bd9",
   "metadata": {
    "tags": []
   },
   "outputs": [
    {
     "data": {
      "image/png": "[encoded data removed]",
      "text/plain": [
       "<Figure size 640x480 with 2 Axes>"
      ]
     },
     "metadata": {},
     "output_type": "display_data"
    }
   ],
   "source": [
    "#Confusion Matrix\n",
    "from sklearn.metrics import ConfusionMatrixDisplay\n",
    "\n",
    "ConfusionMatrixDisplay.from_estimator(best_model, X_val, y_val, display_labels=[\"Low\", \"Medium\", \"High\"], cmap=\"Blues\")\n",
    "plt.title(\"Confusion Matrix of Project Priority Predictions\")\n",
    "plt.show()"
   ]
  },
  {
   "cell_type": "code",
   "execution_count": 240,
   "id": "050571d8-d44f-43b1-b0f3-5c73039aa9fc",
   "metadata": {
    "tags": []
   },
   "outputs": [
    {
     "data": {
      "image/png": "[encoded data removed]",
      "text/plain": [
       "<Figure size 800x600 with 2 Axes>"
      ]
     },
     "metadata": {},
     "output_type": "display_data"
    }
   ],
   "source": [
    "#Feature Correlation Heatmap\n",
    "import seaborn as sns\n",
    "import matplotlib.pyplot as plt\n",
    "\n",
    "# Calculate correlation matrix\n",
    "correlation_matrix = X.corr()\n",
    "\n",
    "# Plot heatmap\n",
    "plt.figure(figsize=(8, 6))\n",
    "sns.heatmap(correlation_matrix, annot=True, cmap=\"coolwarm\", linewidths=0.5)\n",
    "plt.title(\"Feature Correlation Heatmap\")\n",
    "plt.show()\n"
   ]
  },
  {
   "cell_type": "code",
   "execution_count": 241,
   "id": "d162f838-06cc-42fe-8922-64dbf4644978",
   "metadata": {
    "tags": []
   },
   "outputs": [],
   "source": [
    "###UNUSED CODE\n",
    "# #ACAD data- we are only using regional for North america\n",
    "\n",
    "# # Projects has 'SpeciesCommonName' and we want to match it with 'Common Name' in ACAD Regional\n",
    "# acad_regional_df.rename(columns={'Common Name': 'SpeciesCommonName'}, inplace=True)\n",
    "# # to create a new column 'Region_BCR' by prefixing 'BCR' to values in an existing column 'BCR'\n",
    "# acad_regional_df['RegionName'] = acad_regional_df['BCR'].apply(lambda x: f'BCR{x}' if pd.notnull(x) else None)\n",
    "\n",
    "# # Map Action Code to numerical scores\n",
    "# action_code_mapping = {\n",
    "#     'CR': 4,\n",
    "#     'IM': 3,\n",
    "#     'MA': 2,\n",
    "#     'PR': 1\n",
    "# }\n",
    "\n",
    "# # Create a new column 'RegionalRiskIndex' initialized with Action Code values\n",
    "# acad_regional_df['RegionalRiskIndex'] = acad_regional_df['Action Code'].map(action_code_mapping)\n",
    "\n",
    "# # Convert relevant columns to numeric, forcing errors to NaN for non-numeric entries i.e. NULL\n",
    "# for col in ['BD-g', 'PS-g', 'PT-r', 'TB-r', 'AI-b', 'ND-g', 'TN-r', 'AI-w']:\n",
    "#     acad_regional_df[col] = pd.to_numeric(acad_regional_df[col], errors='coerce')\n",
    "\n",
    "    \n",
    "    \n",
    "# # function to calculate Regional Risk Index where Action Code is null\n",
    "# def calculate_regional_risk(row):\n",
    "#     # Check if Action Code is null and required columns are not null\n",
    "#     if pd.isnull(row['Action Code']):\n",
    "#         breeding_season_sum = row[['BD-g', 'PS-g', 'PT-r', 'TB-r', 'AI-b']].sum()\n",
    "#         nonbreeding_season_sum = row[['ND-g', 'PS-g', 'PT-r', 'TN-r', 'AI-w']].sum()\n",
    "        \n",
    "#         # Check if all necessary columns have values\n",
    "#         if not row[['BD-g', 'PS-g', 'PT-r', 'TB-r', 'AI-b', 'ND-g', 'TN-r', 'AI-w']].isnull().any():\n",
    "#             # Calculate regional risk index as the average of breeding and non-breeding scores\n",
    "#             regional_risk = (breeding_season_sum + nonbreeding_season_sum) / 2\n",
    "#             regional_risk = (regional_risk / 25) * 4  # Normalize to a scale of 0 to 4\n",
    "#             return regional_risk\n",
    "#         else:\n",
    "#             # If any of the required columns is null, return 0 (no index)-least priority\n",
    "#             return 0\n",
    "#     else:\n",
    "#         # If Action Code is not null, use the mapped score\n",
    "#         return row['RegionalRiskIndex']\n",
    "\n",
    "\n",
    "    \n",
    "# # Apply the function to calculate RegionalRiskIndex for rows with null Action Code\n",
    "# acad_regional_df['RegionalRiskIndex'] = acad_regional_df.apply(calculate_regional_risk, axis=1)\n",
    "# # Check the output\n",
    "# print(acad_regional_df[['SpeciesCommonName', 'Action Code', 'RegionalRiskIndex']].head(20))\n",
    "\n",
    "\n",
    "\n",
    "\n",
    "# #merging projects with ACAD on species common name\n",
    "\n",
    "\n",
    "\n",
    "# # Ensure both columns are in the same format (e.g., lowercase and stripped of extra whitespace)\n",
    "# #Projects has been transformed to train_merged after aboe calcs\n",
    "# acad_regional_df['SpeciesCommonName'] = acad_regional_df['SpeciesCommonName'].str.strip().str.lower()\n",
    "# train_merged['SpeciesCommonName'] = train_merged['SpeciesCommonName'].str.strip().str.lower()\n",
    "\n",
    "# acad_regional_df['RegionName'] = acad_regional_df['RegionName'].str.strip().str.lower()\n",
    "# train_merged['RegionName'] = train_merged['RegionName'].str.strip().str.lower()\n",
    "\n",
    "# # Merge train_merged with ACAD Regional on 'SpeciesCommonName' and 'RegionName'\n",
    "# train_merged = pd.merge(train_merged, acad_regional_df[['SpeciesCommonName', 'RegionName', 'RegionalRiskIndex']],  on=['SpeciesCommonName', 'RegionName'], how='left')\n",
    "\n",
    "# # Fill NaNs with 0 as if empty= means no priority as we dont have nay data for it\n",
    "# train_merged['RegionalRiskIndex'].fillna(0, inplace=True)\n",
    "\n",
    "# # Display the top rows to verify the merged result\n",
    "# print(train_merged.head(50))\n"
   ]
  }
 ],
 "metadata": {
  "kernelspec": {
   "display_name": "Python 3 (ipykernel)",
   "language": "python",
   "name": "python3"
  },
  "language_info": {
   "codemirror_mode": {
    "name": "ipython",
    "version": 3
   },
   "file_extension": ".py",
   "mimetype": "text/x-python",
   "name": "python",
   "nbconvert_exporter": "python",
   "pygments_lexer": "ipython3",
   "version": "3.8.19"
  }
 },
 "nbformat": 4,
 "nbformat_minor": 5
}
